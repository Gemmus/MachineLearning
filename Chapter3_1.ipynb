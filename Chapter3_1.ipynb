{
  "nbformat": 4,
  "nbformat_minor": 0,
  "metadata": {
    "colab": {
      "provenance": []
    },
    "kernelspec": {
      "name": "python3",
      "display_name": "Python 3"
    }
  },
  "cells": [
    {
      "cell_type": "markdown",
      "metadata": {
        "id": "XL6jDiByiIz9"
      },
      "source": [
        "# **Introduction to Machine Learning Chapter 3.1**\n",
        "# **Multilayer Perceptron with Step function**\n",
        "---"
      ]
    },
    {
      "cell_type": "markdown",
      "source": [
        "## Import libraries"
      ],
      "metadata": {
        "id": "0rexds_XFuPv"
      }
    },
    {
      "cell_type": "code",
      "source": [
        "import numpy as np                  # for scientific computing (e.g. culclations with array)\n",
        "import matplotlib.pyplot as plt     # for visualization"
      ],
      "metadata": {
        "id": "K4gZokNYFtwd"
      },
      "execution_count": 1,
      "outputs": []
    },
    {
      "cell_type": "markdown",
      "metadata": {
        "id": "Cviahf5sinOi"
      },
      "source": [
        "## **Example 3.1.1** Implementation of inner-product"
      ]
    },
    {
      "cell_type": "code",
      "metadata": {
        "id": "iQO8JUYRnZ_J",
        "colab": {
          "base_uri": "https://localhost:8080/"
        },
        "outputId": "cbae5441-e252-44f9-cfa2-b2c029cf95e9"
      },
      "source": [
        "x = np.array([1, 0, 1])\n",
        "w = np.array([[2],\n",
        "              [3],\n",
        "              [-1]])\n",
        "b = -2\n",
        "p = np.dot(x, w) + b\n",
        "print(p)"
      ],
      "execution_count": 2,
      "outputs": [
        {
          "output_type": "stream",
          "name": "stdout",
          "text": [
            "[-1]\n"
          ]
        }
      ]
    },
    {
      "cell_type": "markdown",
      "metadata": {
        "id": "Ve5oXsHTiFoP"
      },
      "source": [
        "## **Example 3.1.2** Implementation of formal neuron model (1)"
      ]
    },
    {
      "cell_type": "code",
      "metadata": {
        "id": "VXD4cw9Cny-Z",
        "colab": {
          "base_uri": "https://localhost:8080/"
        },
        "outputId": "ffeb94c4-5120-4517-c33d-35329d79cc3b"
      },
      "source": [
        "x = np.array([1, 1, 0])\n",
        "w = np.array([[0.5],\n",
        "              [1.0],\n",
        "              [0.5]])\n",
        "b = -1\n",
        "\n",
        "def formal_neuron(x, w, b):\n",
        "    p = np.dot(x, w) + b\n",
        "    y = p > 0\n",
        "    return np.int64(y)  # cast from boolean to integer\n",
        "\n",
        "y = formal_neuron(x, w, b)\n",
        "print(y)"
      ],
      "execution_count": 3,
      "outputs": [
        {
          "output_type": "stream",
          "name": "stdout",
          "text": [
            "[1]\n"
          ]
        }
      ]
    },
    {
      "cell_type": "markdown",
      "source": [
        "##**Example 3.1.3** Numpy broadcastiong"
      ],
      "metadata": {
        "id": "WAWQMJsCcKZk"
      }
    },
    {
      "cell_type": "code",
      "source": [
        "a = np.array([1, 2, 3]) # matrix (vector)\n",
        "b = 2 # scalar\n",
        "\n",
        "print(a * b)"
      ],
      "metadata": {
        "id": "gRijnOVKeRQ5",
        "colab": {
          "base_uri": "https://localhost:8080/"
        },
        "outputId": "0c926530-976d-4cea-84d4-7bd726853988"
      },
      "execution_count": 4,
      "outputs": [
        {
          "output_type": "stream",
          "name": "stdout",
          "text": [
            "[2 4 6]\n"
          ]
        }
      ]
    },
    {
      "cell_type": "markdown",
      "metadata": {
        "id": "dv5YiQ6zzvyx"
      },
      "source": [
        "## **Example 3.1.4** Implementation of formal neuron model (2)"
      ]
    },
    {
      "cell_type": "code",
      "metadata": {
        "id": "EIFSy2CuzydZ",
        "colab": {
          "base_uri": "https://localhost:8080/"
        },
        "outputId": "eb2be419-a4d2-44ee-cbf2-e56f3441e126"
      },
      "source": [
        "x = np.array([[0,0,0],\n",
        "              [0,0,1],\n",
        "              [0,1,0],\n",
        "              [0,1,1],\n",
        "              [1,0,0],\n",
        "              [1,0,1],\n",
        "              [1,1,0],\n",
        "              [1,1,1]])\n",
        "w = np.array([[0.5],\n",
        "              [1.0],\n",
        "              [0.5]])\n",
        "b = -1\n",
        "\n",
        "def formal_neuron(x, w, b):\n",
        "    p = np.dot(x, w) + b\n",
        "    y = p > 0\n",
        "    return np.int64(y)\n",
        "\n",
        "y = formal_neuron(x, w, b)\n",
        "print(y)"
      ],
      "execution_count": 5,
      "outputs": [
        {
          "output_type": "stream",
          "name": "stdout",
          "text": [
            "[[0]\n",
            " [0]\n",
            " [0]\n",
            " [1]\n",
            " [0]\n",
            " [0]\n",
            " [1]\n",
            " [1]]\n"
          ]
        }
      ]
    },
    {
      "cell_type": "markdown",
      "metadata": {
        "id": "vX6oLpWT-QPP"
      },
      "source": [
        "## 🤔 **Exercise 3.1.1**"
      ]
    },
    {
      "cell_type": "code",
      "metadata": {
        "id": "BK1rL-6Y-URo",
        "colab": {
          "base_uri": "https://localhost:8080/"
        },
        "outputId": "85be021f-d596-4998-be4d-05bffec05fe4"
      },
      "source": [
        "x =np.array([[1,0,1],\n",
        "              [0,1,0],\n",
        "              [1,1,1]])\n",
        "w = np.array([[0.6],\n",
        "              [-1.5],\n",
        "              [1.0]])\n",
        "b = -1.0\n",
        "\n",
        "def formal_neuron(x, w, b):\n",
        "    p = np.dot(x, w) + b\n",
        "    y = p > 0\n",
        "    return np.int64(y)\n",
        "\n",
        "y = formal_neuron(x, w, b)\n",
        "print(y)"
      ],
      "execution_count": 7,
      "outputs": [
        {
          "output_type": "stream",
          "name": "stdout",
          "text": [
            "[[1]\n",
            " [0]\n",
            " [0]]\n"
          ]
        }
      ]
    },
    {
      "cell_type": "markdown",
      "metadata": {
        "id": "vLLXJvza-Y0E"
      },
      "source": [
        "## **Example 3.1.5** Implementation of formal neuron model (3)"
      ]
    },
    {
      "cell_type": "code",
      "metadata": {
        "id": "uydGdr5B-X0N",
        "colab": {
          "base_uri": "https://localhost:8080/"
        },
        "outputId": "ebea592e-581b-45f5-926e-54ad9f1ea4a1"
      },
      "source": [
        "x = np.array([[0,0,0],\n",
        "              [0,0,1],\n",
        "              [0,1,0],\n",
        "              [0,1,1],\n",
        "              [1,0,0],\n",
        "              [1,0,1],\n",
        "              [1,1,0],\n",
        "              [1,1,1]])\n",
        "w = np.array([[0.5, 0.0],\n",
        "              [1.0, 0.5],\n",
        "              [0.5, 1.0]])\n",
        "b = np.array([-0.5, -1.0])\n",
        "\n",
        "def formal_neuron(x, w, b):\n",
        "    p = np.dot(x, w) + b\n",
        "    y = p > 0\n",
        "    return np.int64(y)\n",
        "\n",
        "y = formal_neuron(x, w, b)\n",
        "print(y)"
      ],
      "execution_count": 8,
      "outputs": [
        {
          "output_type": "stream",
          "name": "stdout",
          "text": [
            "[[0 0]\n",
            " [0 0]\n",
            " [1 0]\n",
            " [1 1]\n",
            " [0 0]\n",
            " [1 0]\n",
            " [1 0]\n",
            " [1 1]]\n"
          ]
        }
      ]
    },
    {
      "cell_type": "markdown",
      "metadata": {
        "id": "DLrhwgyrAr81"
      },
      "source": [
        "## 🤔 **Exercise 3.1.2**"
      ]
    },
    {
      "cell_type": "code",
      "metadata": {
        "id": "dsp-Qd6ZAvCR",
        "colab": {
          "base_uri": "https://localhost:8080/"
        },
        "outputId": "1e36d5b6-01c7-4406-e4ff-fa0df6d9401c"
      },
      "source": [
        "x = np.array([[1,0,1],\n",
        "              [0,1,0],\n",
        "              [1,1,1],\n",
        "              [0,1,1]])\n",
        "\n",
        "w = np.array([[2.0, -1.0, 3.0],\n",
        "              [0.0, 4.0, 1.0],\n",
        "              [-4.0, 2.0, -2.0]])\n",
        "\n",
        "b = np.array([-2.0, 0.0, -1.0])\n",
        "\n",
        "def formal_neuron(x, w, b):\n",
        "    p = np.dot(x, w) + b\n",
        "    y = p > 0\n",
        "    return np.int64(y)\n",
        "\n",
        "y = formal_neuron(x, w, b)\n",
        "print(y)"
      ],
      "execution_count": 12,
      "outputs": [
        {
          "output_type": "stream",
          "name": "stdout",
          "text": [
            "[[0 1 0]\n",
            " [0 1 0]\n",
            " [0 1 1]\n",
            " [0 1 0]]\n"
          ]
        }
      ]
    },
    {
      "cell_type": "markdown",
      "metadata": {
        "id": "PAdtNqOcrrTV"
      },
      "source": [
        "## **Example 3.1.6** Implementing Linear class and Step class"
      ]
    },
    {
      "cell_type": "code",
      "metadata": {
        "id": "7bDWbjrXrqZ2",
        "colab": {
          "base_uri": "https://localhost:8080/"
        },
        "outputId": "b44c8f45-9186-4df8-82e8-083016d6b3c8"
      },
      "source": [
        "import numpy as np\n",
        "\n",
        "class Linear:\n",
        "  #constructor\n",
        "  def __init__(self, w, b):\n",
        "    self.w = w\n",
        "    self.b = b\n",
        "\n",
        "  #calculate output from input\n",
        "  def forward(self, x):\n",
        "    p = np.dot(x, self.w) + self.b\n",
        "    return p\n",
        "\n",
        "class Step:\n",
        "  def forward(self, x):\n",
        "    y = x > 0\n",
        "    return np.int64(y)\n",
        "\n",
        "x = np.array([[0,0,0],\n",
        "              [0,0,1],\n",
        "              [0,1,0],\n",
        "              [0,1,1],\n",
        "              [1,0,0],\n",
        "              [1,0,1],\n",
        "              [1,1,0],\n",
        "              [1,1,1]])\n",
        "w = np.array([[0.5, 0.0],\n",
        "              [1.0, 0.5],\n",
        "              [0.5, 1.0]])\n",
        "b = np.array([-0.5, -1.0])\n",
        "\n",
        "linear = Linear(w,b)\n",
        "step = Step()\n",
        "\n",
        "p = linear.forward(x)\n",
        "y = step.forward(p)\n",
        "\n",
        "print(y)"
      ],
      "execution_count": 13,
      "outputs": [
        {
          "output_type": "stream",
          "name": "stdout",
          "text": [
            "[[0 0]\n",
            " [0 0]\n",
            " [1 0]\n",
            " [1 1]\n",
            " [0 0]\n",
            " [1 0]\n",
            " [1 0]\n",
            " [1 1]]\n"
          ]
        }
      ]
    },
    {
      "cell_type": "markdown",
      "metadata": {
        "id": "p75TMv_JEYtu"
      },
      "source": [
        "## 🤔 **Exercise 3.1.3**"
      ]
    },
    {
      "cell_type": "code",
      "metadata": {
        "id": "hl7j6UMoEX0q",
        "colab": {
          "base_uri": "https://localhost:8080/"
        },
        "outputId": "4923895e-4470-4636-8cd7-846c953025ca"
      },
      "source": [
        "x = np.array([[0,1,1,1],\n",
        "              [0,1,0,0],\n",
        "              [1,1,0,0]])\n",
        "\n",
        "w = np.array([[-2.0, 0.0, 2.0, 2.0],\n",
        "              [-1.0, 2.0, 1.0, -1.0],\n",
        "              [4.0, -3.0, 1.0, 0.0],\n",
        "              [1.0, 1.0, 0.0, -3.0]])\n",
        "\n",
        "b = np.array([-1.0, 0.0, 0.0, -2.0])\n",
        "\n",
        "\n",
        "print(y)"
      ],
      "execution_count": 14,
      "outputs": [
        {
          "output_type": "stream",
          "name": "stdout",
          "text": [
            "[[0 0]\n",
            " [0 0]\n",
            " [1 0]\n",
            " [1 1]\n",
            " [0 0]\n",
            " [1 0]\n",
            " [1 0]\n",
            " [1 1]]\n"
          ]
        }
      ]
    },
    {
      "cell_type": "markdown",
      "metadata": {
        "id": "ifNFnliJEdav"
      },
      "source": [
        "## **Example 3.1.7** Implementation of MLP model"
      ]
    },
    {
      "cell_type": "code",
      "metadata": {
        "id": "-l9cp1-9EuCj",
        "colab": {
          "base_uri": "https://localhost:8080/"
        },
        "outputId": "a3447013-9c5b-4fba-be98-505a882ed4f5"
      },
      "source": [
        "class Linear:\n",
        "  def __init__(self, w, b):\n",
        "    self.w = w\n",
        "    self.b = b\n",
        "\n",
        "  def forward(self, x):\n",
        "    p = np.dot(x, self.w) + self.b\n",
        "    return p\n",
        "\n",
        "class Step:\n",
        "  def forward(self, x):\n",
        "    y = x > 0\n",
        "    return np.int64(y)\n",
        "\n",
        "x = np.array([[0,0,0],\n",
        "              [0,0,1],\n",
        "              [0,1,0],\n",
        "              [0,1,1],\n",
        "              [1,0,0],\n",
        "              [1,0,1],\n",
        "              [1,1,0],\n",
        "              [1,1,1]])\n",
        "w = np.array([[0.5, 1.0, 1.0],\n",
        "              [1.0, 0.5, 0.5],\n",
        "              [0.5, 1.0, 0.0]])\n",
        "b = np.array([-0.5, -1.5, -1.0])\n",
        "u = np.array([[1.0, 0.5],\n",
        "              [0.5, 0.0],\n",
        "              [0.0, 1.0]])\n",
        "c = np.array([-1.0, 0.0])\n",
        "\n",
        "linear1 = Linear(w,b)\n",
        "step1 = Step()\n",
        "linear2 = Linear(u,c)\n",
        "step2 = Step()\n",
        "\n",
        "p = linear1.forward(x)\n",
        "y = step1.forward(p)\n",
        "q = linear2.forward(y)\n",
        "z = step2.forward(q)\n",
        "\n",
        "print(y)\n",
        "print(z)"
      ],
      "execution_count": 15,
      "outputs": [
        {
          "output_type": "stream",
          "name": "stdout",
          "text": [
            "[[0 0 0]\n",
            " [0 0 0]\n",
            " [1 0 0]\n",
            " [1 0 0]\n",
            " [0 0 0]\n",
            " [1 1 0]\n",
            " [1 0 1]\n",
            " [1 1 1]]\n",
            "[[0 0]\n",
            " [0 0]\n",
            " [0 1]\n",
            " [0 1]\n",
            " [0 0]\n",
            " [1 1]\n",
            " [0 1]\n",
            " [1 1]]\n"
          ]
        }
      ]
    },
    {
      "cell_type": "markdown",
      "metadata": {
        "id": "DUGC8NopMABS"
      },
      "source": [
        "## 🤔 **Exercise 3.1.4**"
      ]
    },
    {
      "cell_type": "code",
      "metadata": {
        "id": "M0ybkp89MB0q",
        "colab": {
          "base_uri": "https://localhost:8080/"
        },
        "outputId": "2d9ec197-0c6e-4e96-97e7-2689adde6942"
      },
      "source": [
        "x = np.array([[1,1,1],\n",
        "              [0,1,0],\n",
        "              [1,0,0],\n",
        "              [1,0,1]])\n",
        "\n",
        "w = np.array([[-2.0, 1.0, 0.0, 1.0],\n",
        "              [0.0, 1.0, -2.0, -1.0],\n",
        "              [1.0, 0.0, 1.0, 1.0]])\n",
        "\n",
        "b = np.array([-2.0, 1.0, 0.0, -1.0])\n",
        "\n",
        "u = np.array([[4.0, 1.0],\n",
        "              [2.0, 3.0],\n",
        "              [0.0, 1.0],\n",
        "              [3.0, 1.0]])\n",
        "\n",
        "c = np.array([-2.0, -4.0])\n",
        "\n",
        "print(y)\n",
        "print(z)"
      ],
      "execution_count": 16,
      "outputs": [
        {
          "output_type": "stream",
          "name": "stdout",
          "text": [
            "[[0 0 0]\n",
            " [0 0 0]\n",
            " [1 0 0]\n",
            " [1 0 0]\n",
            " [0 0 0]\n",
            " [1 1 0]\n",
            " [1 0 1]\n",
            " [1 1 1]]\n",
            "[[0 0]\n",
            " [0 0]\n",
            " [0 1]\n",
            " [0 1]\n",
            " [0 0]\n",
            " [1 1]\n",
            " [0 1]\n",
            " [1 1]]\n"
          ]
        }
      ]
    },
    {
      "cell_type": "code",
      "source": [],
      "metadata": {
        "id": "6cUZd3tCyQ-S"
      },
      "execution_count": null,
      "outputs": []
    }
  ]
}