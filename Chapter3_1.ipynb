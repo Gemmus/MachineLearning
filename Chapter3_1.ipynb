{
  "nbformat": 4,
  "nbformat_minor": 0,
  "metadata": {
    "colab": {
      "provenance": []
    },
    "kernelspec": {
      "name": "python3",
      "display_name": "Python 3"
    }
  },
  "cells": [
    {
      "cell_type": "markdown",
      "metadata": {
        "id": "XL6jDiByiIz9"
      },
      "source": [
        "# **Introduction to Machine Learning Chapter 3.1**\n",
        "# **Multilayer Perceptron with Step function**\n",
        "---"
      ]
    },
    {
      "cell_type": "markdown",
      "source": [
        "## Import libraries"
      ],
      "metadata": {
        "id": "0rexds_XFuPv"
      }
    },
    {
      "cell_type": "code",
      "source": [
        "import numpy as np                  # for scientific computing (e.g. culclations with array)\n",
        "import matplotlib.pyplot as plt     # for visualization"
      ],
      "metadata": {
        "id": "K4gZokNYFtwd"
      },
      "execution_count": 18,
      "outputs": []
    },
    {
      "cell_type": "markdown",
      "metadata": {
        "id": "Cviahf5sinOi"
      },
      "source": [
        "## **Example 3.1.1** Implementation of inner-product"
      ]
    },
    {
      "cell_type": "code",
      "metadata": {
        "id": "iQO8JUYRnZ_J",
        "colab": {
          "base_uri": "https://localhost:8080/"
        },
        "outputId": "a0528191-63f8-4fce-fac5-ffbbcdc24520"
      },
      "source": [
        "x = np.array([1, 0, 1])\n",
        "w = np.array([[2],\n",
        "              [3],\n",
        "              [-1]])\n",
        "b = -2\n",
        "p = np.dot(x, w) + b\n",
        "print(p)"
      ],
      "execution_count": 19,
      "outputs": [
        {
          "output_type": "stream",
          "name": "stdout",
          "text": [
            "[-1]\n"
          ]
        }
      ]
    },
    {
      "cell_type": "markdown",
      "metadata": {
        "id": "Ve5oXsHTiFoP"
      },
      "source": [
        "## **Example 3.1.2** Implementation of formal neuron model (1)"
      ]
    },
    {
      "cell_type": "code",
      "metadata": {
        "id": "VXD4cw9Cny-Z",
        "colab": {
          "base_uri": "https://localhost:8080/"
        },
        "outputId": "d091dfdc-da46-4bf3-b10b-f38f6d808ce5"
      },
      "source": [
        "x = np.array([1, 1, 0])\n",
        "w = np.array([[0.5],\n",
        "              [1.0],\n",
        "              [0.5]])\n",
        "b = -1\n",
        "\n",
        "def formal_neuron(x, w, b):\n",
        "    p = np.dot(x, w) + b\n",
        "    y = p > 0\n",
        "    return np.int64(y)  # cast from boolean to integer\n",
        "\n",
        "y = formal_neuron(x, w, b)\n",
        "print(y)"
      ],
      "execution_count": 20,
      "outputs": [
        {
          "output_type": "stream",
          "name": "stdout",
          "text": [
            "[1]\n"
          ]
        }
      ]
    },
    {
      "cell_type": "markdown",
      "source": [
        "##**Example 3.1.3** Numpy broadcastiong"
      ],
      "metadata": {
        "id": "WAWQMJsCcKZk"
      }
    },
    {
      "cell_type": "code",
      "source": [
        "a = np.array([1, 2, 3]) # matrix (vector)\n",
        "b = 2 # scalar\n",
        "\n",
        "print(a * b)"
      ],
      "metadata": {
        "id": "gRijnOVKeRQ5",
        "colab": {
          "base_uri": "https://localhost:8080/"
        },
        "outputId": "e3975161-a52e-4b8b-8a63-cf8d2194e296"
      },
      "execution_count": 21,
      "outputs": [
        {
          "output_type": "stream",
          "name": "stdout",
          "text": [
            "[2 4 6]\n"
          ]
        }
      ]
    },
    {
      "cell_type": "markdown",
      "metadata": {
        "id": "dv5YiQ6zzvyx"
      },
      "source": [
        "## **Example 3.1.4** Implementation of formal neuron model (2)"
      ]
    },
    {
      "cell_type": "code",
      "metadata": {
        "id": "EIFSy2CuzydZ",
        "colab": {
          "base_uri": "https://localhost:8080/"
        },
        "outputId": "7ddadc08-0df9-4bec-837e-970ecca2f516"
      },
      "source": [
        "x = np.array([[0,0,0],\n",
        "              [0,0,1],\n",
        "              [0,1,0],\n",
        "              [0,1,1],\n",
        "              [1,0,0],\n",
        "              [1,0,1],\n",
        "              [1,1,0],\n",
        "              [1,1,1]])\n",
        "w = np.array([[0.5],\n",
        "              [1.0],\n",
        "              [0.5]])\n",
        "b = -1\n",
        "\n",
        "def formal_neuron(x, w, b):\n",
        "    p = np.dot(x, w) + b\n",
        "    y = p > 0\n",
        "    return np.int64(y)\n",
        "\n",
        "y = formal_neuron(x, w, b)\n",
        "print(y)"
      ],
      "execution_count": 22,
      "outputs": [
        {
          "output_type": "stream",
          "name": "stdout",
          "text": [
            "[[0]\n",
            " [0]\n",
            " [0]\n",
            " [1]\n",
            " [0]\n",
            " [0]\n",
            " [1]\n",
            " [1]]\n"
          ]
        }
      ]
    },
    {
      "cell_type": "markdown",
      "metadata": {
        "id": "vX6oLpWT-QPP"
      },
      "source": [
        "## 🤔 **Exercise 3.1.1**"
      ]
    },
    {
      "cell_type": "code",
      "metadata": {
        "id": "BK1rL-6Y-URo",
        "colab": {
          "base_uri": "https://localhost:8080/"
        },
        "outputId": "ef9330bc-233f-45cf-c375-2e42d6f29338"
      },
      "source": [
        "x =np.array([[1,0,1],\n",
        "              [0,1,0],\n",
        "              [1,1,1]])\n",
        "w = np.array([[0.6],\n",
        "              [-1.5],\n",
        "              [1.0]])\n",
        "b = -1.0\n",
        "\n",
        "def formal_neuron(x, w, b):\n",
        "    p = np.dot(x, w) + b\n",
        "    y = p > 0\n",
        "    return np.int64(y)\n",
        "\n",
        "y = formal_neuron(x, w, b)\n",
        "print(y)"
      ],
      "execution_count": 23,
      "outputs": [
        {
          "output_type": "stream",
          "name": "stdout",
          "text": [
            "[[1]\n",
            " [0]\n",
            " [0]]\n"
          ]
        }
      ]
    },
    {
      "cell_type": "markdown",
      "metadata": {
        "id": "vLLXJvza-Y0E"
      },
      "source": [
        "## **Example 3.1.5** Implementation of formal neuron model (3)"
      ]
    },
    {
      "cell_type": "code",
      "metadata": {
        "id": "uydGdr5B-X0N",
        "colab": {
          "base_uri": "https://localhost:8080/"
        },
        "outputId": "b359050e-e33c-4eeb-9729-b60e0aec96cd"
      },
      "source": [
        "x = np.array([[0,0,0],\n",
        "              [0,0,1],\n",
        "              [0,1,0],\n",
        "              [0,1,1],\n",
        "              [1,0,0],\n",
        "              [1,0,1],\n",
        "              [1,1,0],\n",
        "              [1,1,1]])\n",
        "w = np.array([[0.5, 0.0],\n",
        "              [1.0, 0.5],\n",
        "              [0.5, 1.0]])\n",
        "b = np.array([-0.5, -1.0])\n",
        "\n",
        "def formal_neuron(x, w, b):\n",
        "    p = np.dot(x, w) + b\n",
        "    y = p > 0\n",
        "    return np.int64(y)\n",
        "\n",
        "y = formal_neuron(x, w, b)\n",
        "print(y)"
      ],
      "execution_count": 24,
      "outputs": [
        {
          "output_type": "stream",
          "name": "stdout",
          "text": [
            "[[0 0]\n",
            " [0 0]\n",
            " [1 0]\n",
            " [1 1]\n",
            " [0 0]\n",
            " [1 0]\n",
            " [1 0]\n",
            " [1 1]]\n"
          ]
        }
      ]
    },
    {
      "cell_type": "markdown",
      "metadata": {
        "id": "DLrhwgyrAr81"
      },
      "source": [
        "## 🤔 **Exercise 3.1.2**"
      ]
    },
    {
      "cell_type": "code",
      "metadata": {
        "id": "dsp-Qd6ZAvCR",
        "colab": {
          "base_uri": "https://localhost:8080/"
        },
        "outputId": "80f6194d-7146-48a9-b05e-08dae1245c0c"
      },
      "source": [
        "x = np.array([[1,0,1],\n",
        "              [0,1,0],\n",
        "              [1,1,1],\n",
        "              [0,1,1]])\n",
        "\n",
        "w = np.array([[2.0, -1.0, 3.0],\n",
        "              [0.0, 4.0, 1.0],\n",
        "              [-4.0, 2.0, -2.0]])\n",
        "\n",
        "b = np.array([-2.0, 0.0, -1.0])\n",
        "\n",
        "def formal_neuron(x, w, b):\n",
        "    p = np.dot(x, w) + b\n",
        "    y = p > 0\n",
        "    return np.int64(y)\n",
        "\n",
        "y = formal_neuron(x, w, b)\n",
        "print(y)"
      ],
      "execution_count": 25,
      "outputs": [
        {
          "output_type": "stream",
          "name": "stdout",
          "text": [
            "[[0 1 0]\n",
            " [0 1 0]\n",
            " [0 1 1]\n",
            " [0 1 0]]\n"
          ]
        }
      ]
    },
    {
      "cell_type": "markdown",
      "metadata": {
        "id": "PAdtNqOcrrTV"
      },
      "source": [
        "## **Example 3.1.6** Implementing Linear class and Step class"
      ]
    },
    {
      "cell_type": "code",
      "metadata": {
        "id": "7bDWbjrXrqZ2",
        "colab": {
          "base_uri": "https://localhost:8080/"
        },
        "outputId": "34efc5be-9067-486b-8877-5bc513dd64dd"
      },
      "source": [
        "import numpy as np\n",
        "\n",
        "class Linear:\n",
        "  #constructor\n",
        "  def __init__(self, w, b):\n",
        "    self.w = w\n",
        "    self.b = b\n",
        "\n",
        "  #calculate output from input\n",
        "  def forward(self, x):\n",
        "    p = np.dot(x, self.w) + self.b\n",
        "    return p\n",
        "\n",
        "class Step:\n",
        "  def forward(self, x):\n",
        "    y = x > 0\n",
        "    return np.int64(y)\n",
        "\n",
        "x = np.array([[0,0,0],\n",
        "              [0,0,1],\n",
        "              [0,1,0],\n",
        "              [0,1,1],\n",
        "              [1,0,0],\n",
        "              [1,0,1],\n",
        "              [1,1,0],\n",
        "              [1,1,1]])\n",
        "w = np.array([[0.5, 0.0],\n",
        "              [1.0, 0.5],\n",
        "              [0.5, 1.0]])\n",
        "b = np.array([-0.5, -1.0])\n",
        "\n",
        "linear = Linear(w,b)\n",
        "step = Step()\n",
        "\n",
        "p = linear.forward(x)\n",
        "y = step.forward(p)\n",
        "\n",
        "print(y)"
      ],
      "execution_count": 26,
      "outputs": [
        {
          "output_type": "stream",
          "name": "stdout",
          "text": [
            "[[0 0]\n",
            " [0 0]\n",
            " [1 0]\n",
            " [1 1]\n",
            " [0 0]\n",
            " [1 0]\n",
            " [1 0]\n",
            " [1 1]]\n"
          ]
        }
      ]
    },
    {
      "cell_type": "markdown",
      "metadata": {
        "id": "p75TMv_JEYtu"
      },
      "source": [
        "## 🤔 **Exercise 3.1.3**"
      ]
    },
    {
      "cell_type": "code",
      "metadata": {
        "id": "hl7j6UMoEX0q",
        "colab": {
          "base_uri": "https://localhost:8080/"
        },
        "outputId": "a839b043-7be9-4636-f9b4-86b5dbf5fac1"
      },
      "source": [
        "x = np.array([[0,1,1,1],\n",
        "              [0,1,0,0],\n",
        "              [1,1,0,0]])\n",
        "\n",
        "w = np.array([[-2.0, 0.0, 2.0, 2.0],\n",
        "              [-1.0, 2.0, 1.0, -1.0],\n",
        "              [4.0, -3.0, 1.0, 0.0],\n",
        "              [1.0, 1.0, 0.0, -3.0]])\n",
        "\n",
        "b = np.array([-1.0, 0.0, 0.0, -2.0])\n",
        "\n",
        "linear = Linear(w,b)\n",
        "step = Step()\n",
        "\n",
        "p = linear.forward(x)\n",
        "y = step.forward(p)\n",
        "\n",
        "print(y)"
      ],
      "execution_count": 29,
      "outputs": [
        {
          "output_type": "stream",
          "name": "stdout",
          "text": [
            "[[1 0 1 0]\n",
            " [0 1 1 0]\n",
            " [0 1 1 0]]\n"
          ]
        }
      ]
    },
    {
      "cell_type": "markdown",
      "metadata": {
        "id": "ifNFnliJEdav"
      },
      "source": [
        "## **Example 3.1.7** Implementation of MLP model"
      ]
    },
    {
      "cell_type": "code",
      "metadata": {
        "id": "-l9cp1-9EuCj",
        "colab": {
          "base_uri": "https://localhost:8080/"
        },
        "outputId": "968132c4-b42c-4b1d-fb2f-88c3936c6895"
      },
      "source": [
        "class Linear:\n",
        "  def __init__(self, w, b):\n",
        "    self.w = w\n",
        "    self.b = b\n",
        "\n",
        "  def forward(self, x):\n",
        "    p = np.dot(x, self.w) + self.b\n",
        "    return p\n",
        "\n",
        "class Step:\n",
        "  def forward(self, x):\n",
        "    y = x > 0\n",
        "    return np.int64(y)\n",
        "\n",
        "x = np.array([[0,0,0],\n",
        "              [0,0,1],\n",
        "              [0,1,0],\n",
        "              [0,1,1],\n",
        "              [1,0,0],\n",
        "              [1,0,1],\n",
        "              [1,1,0],\n",
        "              [1,1,1]])\n",
        "w = np.array([[0.5, 1.0, 1.0],\n",
        "              [1.0, 0.5, 0.5],\n",
        "              [0.5, 1.0, 0.0]])\n",
        "b = np.array([-0.5, -1.5, -1.0])\n",
        "u = np.array([[1.0, 0.5],\n",
        "              [0.5, 0.0],\n",
        "              [0.0, 1.0]])\n",
        "c = np.array([-1.0, 0.0])\n",
        "\n",
        "linear1 = Linear(w,b)\n",
        "step1 = Step()\n",
        "linear2 = Linear(u,c)\n",
        "step2 = Step()\n",
        "\n",
        "p = linear1.forward(x)\n",
        "y = step1.forward(p)\n",
        "q = linear2.forward(y)\n",
        "z = step2.forward(q)\n",
        "\n",
        "print(y)\n",
        "print(z)"
      ],
      "execution_count": 30,
      "outputs": [
        {
          "output_type": "stream",
          "name": "stdout",
          "text": [
            "[[0 0 0]\n",
            " [0 0 0]\n",
            " [1 0 0]\n",
            " [1 0 0]\n",
            " [0 0 0]\n",
            " [1 1 0]\n",
            " [1 0 1]\n",
            " [1 1 1]]\n",
            "[[0 0]\n",
            " [0 0]\n",
            " [0 1]\n",
            " [0 1]\n",
            " [0 0]\n",
            " [1 1]\n",
            " [0 1]\n",
            " [1 1]]\n"
          ]
        }
      ]
    },
    {
      "cell_type": "markdown",
      "metadata": {
        "id": "DUGC8NopMABS"
      },
      "source": [
        "## 🤔 **Exercise 3.1.4**"
      ]
    },
    {
      "cell_type": "code",
      "metadata": {
        "id": "M0ybkp89MB0q",
        "colab": {
          "base_uri": "https://localhost:8080/"
        },
        "outputId": "40c6cfbf-8d04-4ae3-b061-7e4b020d92f1"
      },
      "source": [
        "x = np.array([[1,1,1],\n",
        "              [0,1,0],\n",
        "              [1,0,0],\n",
        "              [1,0,1]])\n",
        "\n",
        "w = np.array([[-2.0, 1.0, 0.0, 1.0],\n",
        "              [0.0, 1.0, -2.0, -1.0],\n",
        "              [1.0, 0.0, 1.0, 1.0]])\n",
        "\n",
        "b = np.array([-2.0, 1.0, 0.0, -1.0])\n",
        "\n",
        "u = np.array([[4.0, 1.0],\n",
        "              [2.0, 3.0],\n",
        "              [0.0, 1.0],\n",
        "              [3.0, 1.0]])\n",
        "\n",
        "c = np.array([-2.0, -4.0])\n",
        "\n",
        "\n",
        "linear1 = Linear(w,b)\n",
        "step1 = Step()\n",
        "linear2 = Linear(u,c)\n",
        "step2 = Step()\n",
        "\n",
        "p = linear1.forward(x)\n",
        "y = step1.forward(p)\n",
        "q = linear2.forward(y)\n",
        "z = step2.forward(q)\n",
        "\n",
        "print(y)\n",
        "print(z)"
      ],
      "execution_count": 31,
      "outputs": [
        {
          "output_type": "stream",
          "name": "stdout",
          "text": [
            "[[0 1 0 0]\n",
            " [0 1 0 0]\n",
            " [0 1 0 0]\n",
            " [0 1 1 1]]\n",
            "[[0 0]\n",
            " [0 0]\n",
            " [0 0]\n",
            " [1 1]]\n"
          ]
        }
      ]
    },
    {
      "cell_type": "code",
      "source": [],
      "metadata": {
        "id": "6cUZd3tCyQ-S"
      },
      "execution_count": null,
      "outputs": []
    }
  ]
}