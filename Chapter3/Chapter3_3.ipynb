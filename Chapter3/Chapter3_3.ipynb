{
  "nbformat": 4,
  "nbformat_minor": 0,
  "metadata": {
    "colab": {
      "provenance": []
    },
    "kernelspec": {
      "name": "python3",
      "display_name": "Python 3"
    }
  },
  "cells": [
    {
      "cell_type": "markdown",
      "metadata": {
        "id": "mP1FmVczV0uK"
      },
      "source": [
        "# **Introduction to Machine Learning Chapter 3.3**\n",
        "# **Multilayer Perceptron with Sigmoid function**\n",
        "---"
      ]
    },
    {
      "cell_type": "markdown",
      "source": [
        "## Import libraries"
      ],
      "metadata": {
        "id": "lPzElUZsM0nq"
      }
    },
    {
      "cell_type": "code",
      "source": [
        "import numpy as np                  # for scientific computing (e.g. culclations with array)\n",
        "import matplotlib.pyplot as plt     # for visualization"
      ],
      "metadata": {
        "id": "538oqIKRMzna"
      },
      "execution_count": null,
      "outputs": []
    },
    {
      "cell_type": "markdown",
      "metadata": {
        "id": "Bdi1h5p8GH36"
      },
      "source": [
        "## 【Note】Dot-product (inner-product) and Hadamard product in Python"
      ]
    },
    {
      "cell_type": "code",
      "metadata": {
        "id": "9ftu6vjQGOKw",
        "colab": {
          "base_uri": "https://localhost:8080/"
        },
        "outputId": "05d06869-d4ee-4c41-8475-48716ee43008"
      },
      "source": [
        "a = np.array([[1,2,3],\n",
        "              [4,5,6]])\n",
        "\n",
        "b = np.array([[2,2,2],\n",
        "              [3,3,3]])\n",
        "\n",
        "# Hadamard product\n",
        "print(\"a * b =\\n\", a*b)\n",
        "print()\n",
        "\n",
        "# T attribute is the transpose of the array. b.T means the transpose of the array b.\n",
        "print(\"b.T =\\n\", b.T)\n",
        "print()\n",
        "\n",
        "# Dot-product of a and b.T\n",
        "print(\"np.dot(a, b.T) =\\n\", np.dot(a, b.T))\n",
        "print()"
      ],
      "execution_count": null,
      "outputs": [
        {
          "output_type": "stream",
          "name": "stdout",
          "text": [
            "a * b =\n",
            " [[ 2  4  6]\n",
            " [12 15 18]]\n",
            "\n",
            "b.T =\n",
            " [[2 3]\n",
            " [2 3]\n",
            " [2 3]]\n",
            "\n",
            "np.dot(a, b.T) =\n",
            " [[12 18]\n",
            " [30 45]]\n",
            "\n"
          ]
        }
      ]
    },
    {
      "cell_type": "markdown",
      "metadata": {
        "id": "CJ4WMpxUF7KT"
      },
      "source": [
        "## **Example** 3.3.1 Linear class and Sigmoid class"
      ]
    },
    {
      "cell_type": "code",
      "source": [
        "class Linear:\n",
        "  def __init__(self, w, b):\n",
        "    self.w = w    # weight\n",
        "    self.b = b    # bias\n",
        "\n",
        "  def forward(self, x):\n",
        "    p = np.dot(x, self.w) + self.b\n",
        "    return p\n",
        "\n",
        "class Sigmoid:\n",
        "  def forward(self, x):\n",
        "    y = 1 / (1 + np.exp(-x))\n",
        "    return y"
      ],
      "metadata": {
        "id": "G31s_qDJ540w"
      },
      "execution_count": null,
      "outputs": []
    },
    {
      "cell_type": "code",
      "metadata": {
        "id": "uxpvynu1KTe5",
        "colab": {
          "base_uri": "https://localhost:8080/"
        },
        "outputId": "98043cd2-98ee-4449-e4bf-d14e2feeeb55"
      },
      "source": [
        "x = np.array([[0,0],\n",
        "              [0,1],\n",
        "              [1,0],\n",
        "              [1,1]])\n",
        "w = np.array([[2],\n",
        "              [2]])\n",
        "b = np.array([-3])\n",
        "\n",
        "# create instances\n",
        "linear = Linear(w,b)\n",
        "sigmoid = Sigmoid()\n",
        "\n",
        "\n",
        "# forward calculation\n",
        "p = linear.forward(x)\n",
        "y = sigmoid.forward(p) # Using sigmoid class insted of Step class\n",
        "\n",
        "# print x (input array) and y (output array)\n",
        "print(\"x=\\n\", x)\n",
        "print(\"y=\\n\", y)"
      ],
      "execution_count": null,
      "outputs": [
        {
          "output_type": "stream",
          "name": "stdout",
          "text": [
            "x=\n",
            " [[0 0]\n",
            " [0 1]\n",
            " [1 0]\n",
            " [1 1]]\n",
            "y=\n",
            " [[0.04742587]\n",
            " [0.26894142]\n",
            " [0.26894142]\n",
            " [0.73105858]]\n"
          ]
        }
      ]
    },
    {
      "cell_type": "markdown",
      "metadata": {
        "id": "sN2Xh5Y2NoEy"
      },
      "source": [
        "## 🤔 **Exercise 3.3**"
      ]
    },
    {
      "cell_type": "code",
      "metadata": {
        "id": "jTxvV28bNqOG",
        "colab": {
          "base_uri": "https://localhost:8080/"
        },
        "outputId": "ef52ae5b-7d0d-47e7-8cd9-98caf8439f6a"
      },
      "source": [
        "x = np.array([[1,1,1],\n",
        "              [0,1,0],\n",
        "              [1,0,0],\n",
        "              [1,0,1]])\n",
        "\n",
        "w = np.array([[-2.0, 1.0, 0.0, 1.0],\n",
        "              [0.0, 1.0, -2.0, -1.0],\n",
        "              [1.0, 0.0, 1.0, 1.0]])\n",
        "\n",
        "b = np.array([-2.0, 1.0, 0.0, -1.0])\n",
        "\n",
        "u = np.array([[4.0, 1.0],\n",
        "              [2.0, 3.0],\n",
        "              [0.0, 1.0],\n",
        "              [3.0, 1.0]])\n",
        "\n",
        "c = np.array([-2.0, -4.0])\n",
        "\n",
        "# create instances\n",
        "linear1 = Linear(w,b)\n",
        "sigmoid = Sigmoid()\n",
        "\n",
        "# forward calculation\n",
        "p = linear1.forward(x)\n",
        "y = sigmoid.forward(p)\n",
        "\n",
        "# create instances\n",
        "linear2 = Linear(u,c)\n",
        "sigmoid = Sigmoid()\n",
        "\n",
        "# forward calculation\n",
        "q = linear2.forward(y)\n",
        "z = sigmoid.forward(q)\n",
        "\n",
        "# print x (input array), y (output/input array), z (output array)\n",
        "print(\"x=\\n\", x)\n",
        "print(\"y=\\n\", y)\n",
        "print(\"z=\\n\", z)"
      ],
      "execution_count": null,
      "outputs": [
        {
          "output_type": "stream",
          "name": "stdout",
          "text": [
            "x=\n",
            " [[1 1 1]\n",
            " [0 1 0]\n",
            " [1 0 0]\n",
            " [1 0 1]]\n",
            "y=\n",
            " [[0.04742587 0.95257413 0.26894142 0.5       ]\n",
            " [0.11920292 0.88079708 0.11920292 0.11920292]\n",
            " [0.01798621 0.88079708 0.5        0.5       ]\n",
            " [0.04742587 0.88079708 0.73105858 0.73105858]]\n",
            "z=\n",
            " [[0.83129762 0.41923604]\n",
            " [0.64474398 0.26894142]\n",
            " [0.79142542 0.41590117]\n",
            " [0.89515121 0.53791067]]\n"
          ]
        }
      ]
    },
    {
      "cell_type": "code",
      "source": [],
      "metadata": {
        "id": "r2n7IZj92Vdy"
      },
      "execution_count": null,
      "outputs": []
    }
  ]
}